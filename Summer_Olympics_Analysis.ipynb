{
 "cells": [
  {
   "cell_type": "code",
   "execution_count": 1,
   "metadata": {
    "id": "s6pfYV6qXgku"
   },
   "outputs": [],
   "source": [
    "# Import necessary Libraries\n",
    "\n",
    "import numpy as np\n",
    "import pandas as pd"
   ]
  },
  {
   "cell_type": "code",
   "execution_count": 2,
   "metadata": {
    "colab": {
     "base_uri": "https://localhost:8080/",
     "height": 203
    },
    "id": "K6WTru-jXu9G",
    "outputId": "45e38a03-33a0-4b49-a4fd-686326c7ceaf"
   },
   "outputs": [
    {
     "data": {
      "text/html": [
       "<div>\n",
       "<style scoped>\n",
       "    .dataframe tbody tr th:only-of-type {\n",
       "        vertical-align: middle;\n",
       "    }\n",
       "\n",
       "    .dataframe tbody tr th {\n",
       "        vertical-align: top;\n",
       "    }\n",
       "\n",
       "    .dataframe thead th {\n",
       "        text-align: right;\n",
       "    }\n",
       "</style>\n",
       "<table border=\"1\" class=\"dataframe\">\n",
       "  <thead>\n",
       "    <tr style=\"text-align: right;\">\n",
       "      <th></th>\n",
       "      <th>Year</th>\n",
       "      <th>City</th>\n",
       "      <th>Sport</th>\n",
       "      <th>Discipline</th>\n",
       "      <th>Athlete</th>\n",
       "      <th>Country</th>\n",
       "      <th>Gender</th>\n",
       "      <th>Event</th>\n",
       "      <th>Medal</th>\n",
       "    </tr>\n",
       "  </thead>\n",
       "  <tbody>\n",
       "    <tr>\n",
       "      <th>0</th>\n",
       "      <td>1896</td>\n",
       "      <td>Athens</td>\n",
       "      <td>Aquatics</td>\n",
       "      <td>Swimming</td>\n",
       "      <td>HAJOS, Alfred</td>\n",
       "      <td>HUN</td>\n",
       "      <td>Men</td>\n",
       "      <td>100M Freestyle</td>\n",
       "      <td>Gold</td>\n",
       "    </tr>\n",
       "    <tr>\n",
       "      <th>1</th>\n",
       "      <td>1896</td>\n",
       "      <td>Athens</td>\n",
       "      <td>Aquatics</td>\n",
       "      <td>Swimming</td>\n",
       "      <td>HERSCHMANN, Otto</td>\n",
       "      <td>AUT</td>\n",
       "      <td>Men</td>\n",
       "      <td>100M Freestyle</td>\n",
       "      <td>Silver</td>\n",
       "    </tr>\n",
       "    <tr>\n",
       "      <th>2</th>\n",
       "      <td>1896</td>\n",
       "      <td>Athens</td>\n",
       "      <td>Aquatics</td>\n",
       "      <td>Swimming</td>\n",
       "      <td>DRIVAS, Dimitrios</td>\n",
       "      <td>GRE</td>\n",
       "      <td>Men</td>\n",
       "      <td>100M Freestyle For Sailors</td>\n",
       "      <td>Bronze</td>\n",
       "    </tr>\n",
       "    <tr>\n",
       "      <th>3</th>\n",
       "      <td>1896</td>\n",
       "      <td>Athens</td>\n",
       "      <td>Aquatics</td>\n",
       "      <td>Swimming</td>\n",
       "      <td>MALOKINIS, Ioannis</td>\n",
       "      <td>GRE</td>\n",
       "      <td>Men</td>\n",
       "      <td>100M Freestyle For Sailors</td>\n",
       "      <td>Gold</td>\n",
       "    </tr>\n",
       "    <tr>\n",
       "      <th>4</th>\n",
       "      <td>1896</td>\n",
       "      <td>Athens</td>\n",
       "      <td>Aquatics</td>\n",
       "      <td>Swimming</td>\n",
       "      <td>CHASAPIS, Spiridon</td>\n",
       "      <td>GRE</td>\n",
       "      <td>Men</td>\n",
       "      <td>100M Freestyle For Sailors</td>\n",
       "      <td>Silver</td>\n",
       "    </tr>\n",
       "  </tbody>\n",
       "</table>\n",
       "</div>"
      ],
      "text/plain": [
       "   Year    City     Sport Discipline             Athlete Country Gender  \\\n",
       "0  1896  Athens  Aquatics   Swimming       HAJOS, Alfred     HUN    Men   \n",
       "1  1896  Athens  Aquatics   Swimming    HERSCHMANN, Otto     AUT    Men   \n",
       "2  1896  Athens  Aquatics   Swimming   DRIVAS, Dimitrios     GRE    Men   \n",
       "3  1896  Athens  Aquatics   Swimming  MALOKINIS, Ioannis     GRE    Men   \n",
       "4  1896  Athens  Aquatics   Swimming  CHASAPIS, Spiridon     GRE    Men   \n",
       "\n",
       "                        Event   Medal  \n",
       "0              100M Freestyle    Gold  \n",
       "1              100M Freestyle  Silver  \n",
       "2  100M Freestyle For Sailors  Bronze  \n",
       "3  100M Freestyle For Sailors    Gold  \n",
       "4  100M Freestyle For Sailors  Silver  "
      ]
     },
     "execution_count": 2,
     "metadata": {},
     "output_type": "execute_result"
    }
   ],
   "source": [
    "# Read csv File\n",
    "\n",
    "df = pd.read_csv('summer.csv')\n",
    "\n",
    "df.head()"
   ]
  },
  {
   "cell_type": "code",
   "execution_count": 3,
   "metadata": {
    "colab": {
     "base_uri": "https://localhost:8080/"
    },
    "id": "nMkPIjKAX0vL",
    "outputId": "d0dd108a-00f6-4861-ac47-bff1507fdd99"
   },
   "outputs": [
    {
     "data": {
      "text/plain": [
       "Year          0\n",
       "City          0\n",
       "Sport         0\n",
       "Discipline    0\n",
       "Athlete       0\n",
       "Country       4\n",
       "Gender        0\n",
       "Event         0\n",
       "Medal         0\n",
       "dtype: int64"
      ]
     },
     "execution_count": 3,
     "metadata": {},
     "output_type": "execute_result"
    }
   ],
   "source": [
    "# Checking for missing values\n",
    "\n",
    "df.isnull().sum()"
   ]
  },
  {
   "cell_type": "code",
   "execution_count": 4,
   "metadata": {
    "id": "S_ERgongX5FT"
   },
   "outputs": [],
   "source": [
    "# Droping the missing values\n",
    "\n",
    "df = df.dropna()"
   ]
  },
  {
   "cell_type": "markdown",
   "metadata": {
    "id": "VWQBjM8L8YGx"
   },
   "source": [
    "## 1. In how many cities Summer Olympics is held so far"
   ]
  },
  {
   "cell_type": "code",
   "execution_count": 5,
   "metadata": {
    "colab": {
     "base_uri": "https://localhost:8080/"
    },
    "id": "ue-AQEklZQgj",
    "outputId": "b76ced93-184d-4dad-f3ca-bb771971cb83"
   },
   "outputs": [
    {
     "data": {
      "text/plain": [
       "22"
      ]
     },
     "execution_count": 5,
     "metadata": {},
     "output_type": "execute_result"
    }
   ],
   "source": [
    "# Cities Olympic held on\n",
    "\n",
    "cities = df['City'].unique()\n",
    "\n",
    "len(cities)   # Ans: 22"
   ]
  },
  {
   "cell_type": "markdown",
   "metadata": {
    "id": "nzA0jLAQ-e7B"
   },
   "source": [
    "## 2. Which sport is having most number of gold medals so far?"
   ]
  },
  {
   "cell_type": "code",
   "execution_count": 6,
   "metadata": {
    "id": "OlHfORD4YDCX"
   },
   "outputs": [],
   "source": [
    "# Gold Medals\n",
    "\n",
    "gold_medals = df[df['Medal'] == 'Gold']\n"
   ]
  },
  {
   "cell_type": "code",
   "execution_count": 93,
   "metadata": {
    "colab": {
     "base_uri": "https://localhost:8080/",
     "height": 558
    },
    "id": "sVQ6p5DyZcII",
    "outputId": "5bc73ce0-58e5-4e54-fdb2-cb161ef36f90"
   },
   "outputs": [
    {
     "name": "stderr",
     "output_type": "stream",
     "text": [
      "/usr/local/lib/python3.7/dist-packages/ipykernel_launcher.py:6: UserWarning: Boolean Series key will be reindexed to match DataFrame index.\n",
      "  \n"
     ]
    },
    {
     "data": {
      "text/plain": [
       "<matplotlib.axes._subplots.AxesSubplot at 0x7f96fc5c1690>"
      ]
     },
     "execution_count": 93,
     "metadata": {},
     "output_type": "execute_result"
    },
    {
     "data": {
      "image/png": "[encoded data removed]",
      "text/plain": [
       "<Figure size 1440x504 with 1 Axes>"
      ]
     },
     "metadata": {
      "needs_background": "light"
     },
     "output_type": "display_data"
    }
   ],
   "source": [
    "# Top 5 Sports with most number of gold medals\n",
    "\n",
    "gold_data = []\n",
    "\n",
    "for sport in gold_medals['Sport'].unique():\n",
    "    gold_data.append([sport, len(gold_medals[df['Sport'] == sport])])\n",
    "\n",
    "\n",
    "gold_medal_data = pd.DataFrame(gold_data, columns=['Sport', 'MedalCount'])\n",
    "\n",
    "gold_m_data = gold_medal_data.sort_values(by='MedalCount', ascending=False).head()\n",
    "gold_m_data.plot(x='Sport', y='MedalCount', kind='bar', figsize=(20,7), title='Sports Gold Medal Tally', color='green')\n"
   ]
  },
  {
   "cell_type": "markdown",
   "metadata": {
    "id": "3V2pYMJC9io-"
   },
   "source": [
    "## 3. Which sport is having most number of medals so far?"
   ]
  },
  {
   "cell_type": "code",
   "execution_count": 7,
   "metadata": {
    "colab": {
     "base_uri": "https://localhost:8080/",
     "height": 524
    },
    "id": "s-6v5pHZX7b0",
    "outputId": "27f5c828-241a-4d77-9bcb-a2f185ea195c"
   },
   "outputs": [
    {
     "data": {
      "text/plain": [
       "<AxesSubplot:title={'center':'Sports Medal Tally'}, xlabel='Sport'>"
      ]
     },
     "execution_count": 7,
     "metadata": {},
     "output_type": "execute_result"
    },
    {
     "data": {
      "image/png": "[encoded data removed]",
      "text/plain": [
       "<Figure size 1440x504 with 1 Axes>"
      ]
     },
     "metadata": {
      "needs_background": "light"
     },
     "output_type": "display_data"
    }
   ],
   "source": [
    "# Which sport is having most number of medals so far?\n",
    "\n",
    "medal = []\n",
    "\n",
    "for sport in df['Sport'].unique():\n",
    "    medal.append([sport, len(df[df['Sport'] == sport])])\n",
    "    \n",
    "Medal = pd.DataFrame(medal, columns=['Sport', 'MedalCount'])\n",
    "medal_data = Medal.sort_values('MedalCount', ascending=False).head()\n",
    "medal_data.plot(x='Sport', y='MedalCount', title='Sports Medal Tally', kind='bar', color='#800080', figsize=(20,7))"
   ]
  },
  {
   "cell_type": "code",
   "execution_count": 8,
   "metadata": {
    "colab": {
     "base_uri": "https://localhost:8080/",
     "height": 518
    },
    "id": "g7vZTsbm9EEx",
    "outputId": "954932c7-3a49-4c96-f555-0c84e94b5387"
   },
   "outputs": [
    {
     "data": {
      "text/plain": [
       "<AxesSubplot:title={'center':'Discipline Medal Tally'}, xlabel='Discipline'>"
      ]
     },
     "execution_count": 8,
     "metadata": {},
     "output_type": "execute_result"
    },
    {
     "data": {
      "image/png": "[encoded data removed]",
      "text/plain": [
       "<Figure size 1440x504 with 1 Axes>"
      ]
     },
     "metadata": {
      "needs_background": "light"
     },
     "output_type": "display_data"
    }
   ],
   "source": [
    "# Which Discipline is having most number of medals so far\n",
    "\n",
    "medal = []\n",
    "\n",
    "for discipline in df['Discipline'].unique():\n",
    "    medal.append([discipline, len(df[df['Discipline'] == discipline])])\n",
    "    \n",
    "Medal = pd.DataFrame(medal, columns=['Discipline', 'MedalCount'])\n",
    "medal_data = Medal.sort_values('MedalCount', ascending=False).head()\n",
    "medal_data.plot(x='Discipline', y='MedalCount', title='Discipline Medal Tally', kind='bar', color='#14526e', figsize=(20,7))"
   ]
  },
  {
   "cell_type": "markdown",
   "metadata": {
    "id": "orrmBHRA94xn"
   },
   "source": [
    "## 4. Which player has won most number of medals?"
   ]
  },
  {
   "cell_type": "markdown",
   "metadata": {},
   "source": [
    "##### Answer: PHELPS, Michael"
   ]
  },
  {
   "cell_type": "code",
   "execution_count": 9,
   "metadata": {
    "colab": {
     "base_uri": "https://localhost:8080/",
     "height": 569
    },
    "id": "wMLr6StyYDAi",
    "outputId": "29ecd0ac-df65-4a73-accf-93e5b9f34284"
   },
   "outputs": [
    {
     "data": {
      "text/plain": [
       "<AxesSubplot:title={'center':'Athlete Medal Tally'}, xlabel='Athlete'>"
      ]
     },
     "execution_count": 9,
     "metadata": {},
     "output_type": "execute_result"
    },
    {
     "data": {
      "image/png": "[encoded data removed]",
      "text/plain": [
       "<Figure size 1440x504 with 1 Axes>"
      ]
     },
     "metadata": {
      "needs_background": "light"
     },
     "output_type": "display_data"
    }
   ],
   "source": [
    "# Top 5 player with most number of medals\n",
    "\n",
    "player_data = []\n",
    "\n",
    "for player in df['Athlete'].unique():\n",
    "    player_data.append([player, len(df[df['Athlete'] == player])])\n",
    "    \n",
    "Player = pd.DataFrame(player_data, columns=['Athlete', 'MedalCount'])\n",
    "athlete_medal = Player.sort_values('MedalCount', ascending=False).head()\n",
    "athlete_medal.plot(x='Athlete', y='MedalCount', title='Athlete Medal Tally', kind='bar', figsize=(20,7), color='orange')"
   ]
  },
  {
   "cell_type": "markdown",
   "metadata": {
    "id": "UmG31BFz_F3T"
   },
   "source": [
    "## 5. Which player has won most number of gold medals?"
   ]
  },
  {
   "cell_type": "markdown",
   "metadata": {
    "id": "OQEwvnB5_F04"
   },
   "source": [
    "##### Answer: PHELPS, Michael"
   ]
  },
  {
   "cell_type": "code",
   "execution_count": 11,
   "metadata": {
    "colab": {
     "base_uri": "https://localhost:8080/",
     "height": 374
    },
    "id": "yO4TimMNZq9O",
    "outputId": "f909fa1a-bae9-4eb4-c495-21bbea907288"
   },
   "outputs": [
    {
     "name": "stderr",
     "output_type": "stream",
     "text": [
      "C:\\Users\\ASHRUL~1\\AppData\\Local\\Temp/ipykernel_8544/2952172229.py:6: UserWarning: Boolean Series key will be reindexed to match DataFrame index.\n",
      "  athlete_gold_data.append([athlete, len(gold_medals[df['Athlete'] == athlete])])\n"
     ]
    },
    {
     "data": {
      "text/plain": [
       "<AxesSubplot:title={'center':'Athlete Gold Tally'}, xlabel='Athlete'>"
      ]
     },
     "execution_count": 11,
     "metadata": {},
     "output_type": "execute_result"
    },
    {
     "data": {
      "image/png": "[encoded data removed]",
      "text/plain": [
       "<Figure size 1440x504 with 1 Axes>"
      ]
     },
     "metadata": {
      "needs_background": "light"
     },
     "output_type": "display_data"
    }
   ],
   "source": [
    "# Athlete Gold Tally\n",
    "\n",
    "athlete_gold_data = []\n",
    "\n",
    "for athlete in gold_medals['Athlete'].unique():\n",
    "    athlete_gold_data.append([athlete, len(gold_medals[df['Athlete'] == athlete])])\n",
    "\n",
    "    \n",
    "data = pd.DataFrame(athlete_gold_data, columns=['Athlete', 'MedalCount'])\n",
    "\n",
    "athlete_g_data = data.sort_values(by='MedalCount', ascending=False).head()\n",
    "athlete_g_data.plot(x='Athlete', y='MedalCount', kind='bar', figsize=(20,7), title='Athlete Gold Tally', color='#33CCFF')\n"
   ]
  },
  {
   "cell_type": "markdown",
   "metadata": {
    "id": "parR2fqFa8QQ"
   },
   "source": [
    "## 6. In which year India won first Gold Medal in summer Olympics?"
   ]
  },
  {
   "cell_type": "markdown",
   "metadata": {
    "id": "ixFur_7z_Y0u"
   },
   "source": [
    "##### Answer: India own first gold medal in 1928 in **Hockey**"
   ]
  },
  {
   "cell_type": "code",
   "execution_count": null,
   "metadata": {
    "colab": {
     "base_uri": "https://localhost:8080/",
     "height": 622
    },
    "id": "jtYbrk5-Zq3_",
    "outputId": "5d82faab-8d9c-4298-d0af-e16ec6e1b086"
   },
   "outputs": [
    {
     "data": {
      "text/html": [
       "<div>\n",
       "<style scoped>\n",
       "    .dataframe tbody tr th:only-of-type {\n",
       "        vertical-align: middle;\n",
       "    }\n",
       "\n",
       "    .dataframe tbody tr th {\n",
       "        vertical-align: top;\n",
       "    }\n",
       "\n",
       "    .dataframe thead th {\n",
       "        text-align: right;\n",
       "    }\n",
       "</style>\n",
       "<table border=\"1\" class=\"dataframe\">\n",
       "  <thead>\n",
       "    <tr style=\"text-align: right;\">\n",
       "      <th></th>\n",
       "      <th>Year</th>\n",
       "      <th>City</th>\n",
       "      <th>Sport</th>\n",
       "      <th>Discipline</th>\n",
       "      <th>Athlete</th>\n",
       "      <th>Country</th>\n",
       "      <th>Gender</th>\n",
       "      <th>Event</th>\n",
       "      <th>Medal</th>\n",
       "    </tr>\n",
       "  </thead>\n",
       "  <tbody>\n",
       "    <tr>\n",
       "      <th>241</th>\n",
       "      <td>1900</td>\n",
       "      <td>Paris</td>\n",
       "      <td>Athletics</td>\n",
       "      <td>Athletics</td>\n",
       "      <td>PRITCHARD, Norman</td>\n",
       "      <td>IND</td>\n",
       "      <td>Men</td>\n",
       "      <td>200M</td>\n",
       "      <td>Silver</td>\n",
       "    </tr>\n",
       "    <tr>\n",
       "      <th>244</th>\n",
       "      <td>1900</td>\n",
       "      <td>Paris</td>\n",
       "      <td>Athletics</td>\n",
       "      <td>Athletics</td>\n",
       "      <td>PRITCHARD, Norman</td>\n",
       "      <td>IND</td>\n",
       "      <td>Men</td>\n",
       "      <td>200M Hurdles</td>\n",
       "      <td>Silver</td>\n",
       "    </tr>\n",
       "    <tr>\n",
       "      <th>5512</th>\n",
       "      <td>1928</td>\n",
       "      <td>Amsterdam</td>\n",
       "      <td>Hockey</td>\n",
       "      <td>Hockey</td>\n",
       "      <td>ALLEN, Richard James</td>\n",
       "      <td>IND</td>\n",
       "      <td>Men</td>\n",
       "      <td>Hockey</td>\n",
       "      <td>Gold</td>\n",
       "    </tr>\n",
       "    <tr>\n",
       "      <th>5513</th>\n",
       "      <td>1928</td>\n",
       "      <td>Amsterdam</td>\n",
       "      <td>Hockey</td>\n",
       "      <td>Hockey</td>\n",
       "      <td>CHAND, Dyan</td>\n",
       "      <td>IND</td>\n",
       "      <td>Men</td>\n",
       "      <td>Hockey</td>\n",
       "      <td>Gold</td>\n",
       "    </tr>\n",
       "    <tr>\n",
       "      <th>5514</th>\n",
       "      <td>1928</td>\n",
       "      <td>Amsterdam</td>\n",
       "      <td>Hockey</td>\n",
       "      <td>Hockey</td>\n",
       "      <td>GATELEY, Maurice A.</td>\n",
       "      <td>IND</td>\n",
       "      <td>Men</td>\n",
       "      <td>Hockey</td>\n",
       "      <td>Gold</td>\n",
       "    </tr>\n",
       "    <tr>\n",
       "      <th>...</th>\n",
       "      <td>...</td>\n",
       "      <td>...</td>\n",
       "      <td>...</td>\n",
       "      <td>...</td>\n",
       "      <td>...</td>\n",
       "      <td>...</td>\n",
       "      <td>...</td>\n",
       "      <td>...</td>\n",
       "      <td>...</td>\n",
       "    </tr>\n",
       "    <tr>\n",
       "      <th>29879</th>\n",
       "      <td>2012</td>\n",
       "      <td>London</td>\n",
       "      <td>Boxing</td>\n",
       "      <td>Boxing</td>\n",
       "      <td>KOM, Mary</td>\n",
       "      <td>IND</td>\n",
       "      <td>Women</td>\n",
       "      <td>51 KG</td>\n",
       "      <td>Bronze</td>\n",
       "    </tr>\n",
       "    <tr>\n",
       "      <th>30841</th>\n",
       "      <td>2012</td>\n",
       "      <td>London</td>\n",
       "      <td>Shooting</td>\n",
       "      <td>Shooting</td>\n",
       "      <td>NARANG, Gagan</td>\n",
       "      <td>IND</td>\n",
       "      <td>Men</td>\n",
       "      <td>10M Air Rifle</td>\n",
       "      <td>Bronze</td>\n",
       "    </tr>\n",
       "    <tr>\n",
       "      <th>30849</th>\n",
       "      <td>2012</td>\n",
       "      <td>London</td>\n",
       "      <td>Shooting</td>\n",
       "      <td>Shooting</td>\n",
       "      <td>KUMAR, Vijay</td>\n",
       "      <td>IND</td>\n",
       "      <td>Men</td>\n",
       "      <td>25M Rapid Pistol</td>\n",
       "      <td>Silver</td>\n",
       "    </tr>\n",
       "    <tr>\n",
       "      <th>31111</th>\n",
       "      <td>2012</td>\n",
       "      <td>London</td>\n",
       "      <td>Wrestling</td>\n",
       "      <td>Wrestling Freestyle</td>\n",
       "      <td>DUTT, Yogeshwar</td>\n",
       "      <td>IND</td>\n",
       "      <td>Men</td>\n",
       "      <td>Wf 60 KG</td>\n",
       "      <td>Bronze</td>\n",
       "    </tr>\n",
       "    <tr>\n",
       "      <th>31118</th>\n",
       "      <td>2012</td>\n",
       "      <td>London</td>\n",
       "      <td>Wrestling</td>\n",
       "      <td>Wrestling Freestyle</td>\n",
       "      <td>KUMAR, Sushil</td>\n",
       "      <td>IND</td>\n",
       "      <td>Men</td>\n",
       "      <td>Wf 66 KG</td>\n",
       "      <td>Silver</td>\n",
       "    </tr>\n",
       "  </tbody>\n",
       "</table>\n",
       "<p>184 rows × 9 columns</p>\n",
       "</div>"
      ],
      "text/plain": [
       "       Year       City      Sport  ... Gender             Event   Medal\n",
       "241    1900      Paris  Athletics  ...    Men              200M  Silver\n",
       "244    1900      Paris  Athletics  ...    Men      200M Hurdles  Silver\n",
       "5512   1928  Amsterdam     Hockey  ...    Men            Hockey    Gold\n",
       "5513   1928  Amsterdam     Hockey  ...    Men            Hockey    Gold\n",
       "5514   1928  Amsterdam     Hockey  ...    Men            Hockey    Gold\n",
       "...     ...        ...        ...  ...    ...               ...     ...\n",
       "29879  2012     London     Boxing  ...  Women             51 KG  Bronze\n",
       "30841  2012     London   Shooting  ...    Men     10M Air Rifle  Bronze\n",
       "30849  2012     London   Shooting  ...    Men  25M Rapid Pistol  Silver\n",
       "31111  2012     London  Wrestling  ...    Men          Wf 60 KG  Bronze\n",
       "31118  2012     London  Wrestling  ...    Men          Wf 66 KG  Silver\n",
       "\n",
       "[184 rows x 9 columns]"
      ]
     },
     "execution_count": 33,
     "metadata": {},
     "output_type": "execute_result"
    }
   ],
   "source": [
    "# India's Olympic Tally\n",
    "\n",
    "India = df[df['Country'] == 'IND']\n",
    "\n",
    "India"
   ]
  },
  {
   "cell_type": "markdown",
   "metadata": {
    "id": "4I1H7lq5tBGr"
   },
   "source": [
    "## 7. Which event is most popular in terms of number of players"
   ]
  },
  {
   "cell_type": "markdown",
   "metadata": {
    "id": "A9kEk8C_BW9a"
   },
   "source": [
    "##### Answer: Football, 1497 players"
   ]
  },
  {
   "cell_type": "code",
   "execution_count": null,
   "metadata": {
    "colab": {
     "base_uri": "https://localhost:8080/",
     "height": 533
    },
    "id": "53U9O0ofgwsw",
    "outputId": "b3d61c5a-8a72-408b-a1f6-223b8d4123a2"
   },
   "outputs": [
    {
     "data": {
      "text/plain": [
       "<matplotlib.axes._subplots.AxesSubplot at 0x7f96fcbbe7d0>"
      ]
     },
     "execution_count": 50,
     "metadata": {},
     "output_type": "execute_result"
    },
    {
     "data": {
      "image/png": "[encoded data removed]",
      "text/plain": [
       "<Figure size 1440x504 with 1 Axes>"
      ]
     },
     "metadata": {
      "needs_background": "light"
     },
     "output_type": "display_data"
    }
   ],
   "source": [
    "data = list()\n",
    "\n",
    "for event in df['Event'].unique():\n",
    "  data.append([event, len(df[df['Event'] == event])])\n",
    "\n",
    "\n",
    "event_d = pd.DataFrame(data, columns=['Event', 'Frequency'])\n",
    "\n",
    "event_data = event_d.sort_values(by='Frequency', ascending=False).head()\n",
    "\n",
    "event_data.plot(x='Event', y='Frequency', kind='bar', title='Most Popular Events', figsize=(20,7), color='#dc143c')"
   ]
  },
  {
   "cell_type": "markdown",
   "metadata": {
    "id": "2Yy1hD1wAnVF"
   },
   "source": [
    "## 8. Which sport is having most female Gold Medalists?"
   ]
  },
  {
   "cell_type": "markdown",
   "metadata": {
    "id": "GWwPqAhxBAjf"
   },
   "source": [
    "##### Answer: Aquatics, 589 Female gold medalists"
   ]
  },
  {
   "cell_type": "code",
   "execution_count": null,
   "metadata": {
    "id": "dDSERtEatVuf"
   },
   "outputs": [],
   "source": [
    "# Creating women gold medal file\n",
    "\n",
    "women_medal = df[df['Gender'] == 'Women']\n",
    "women_medal.to_csv(\"Women_Medal_Tally.csv\")\n",
    "\n",
    "df = pd.read_csv(\"Women_Medal_Tally.csv\")\n",
    "\n",
    "women_gold = df[df['Medal'] == 'Gold']\n",
    "women_gold.to_csv(\"Women_gold_tally.csv\")\n",
    "\n",
    "df = pd.read_csv('Women_gold_tally.csv')"
   ]
  },
  {
   "cell_type": "code",
   "execution_count": null,
   "metadata": {
    "colab": {
     "base_uri": "https://localhost:8080/",
     "height": 506
    },
    "id": "3mVfQI9M4mwt",
    "outputId": "8417285e-560e-4aeb-ee8e-7640c7eb6917"
   },
   "outputs": [
    {
     "data": {
      "text/plain": [
       "<matplotlib.axes._subplots.AxesSubplot at 0x7f96fc433f90>"
      ]
     },
     "execution_count": 85,
     "metadata": {},
     "output_type": "execute_result"
    },
    {
     "data": {
      "image/png": "[encoded data removed]",
      "text/plain": [
       "<Figure size 1440x504 with 1 Axes>"
      ]
     },
     "metadata": {
      "needs_background": "light"
     },
     "output_type": "display_data"
    }
   ],
   "source": [
    "# Top 5 sports with most female gold medalist\n",
    "data = []\n",
    "\n",
    "for sport in df['Sport'].unique():\n",
    "  data.append([sport, len(df[df['Sport'] == sport])])\n",
    "\n",
    "W_Gold = pd.DataFrame(data, columns=['Sport', 'MedalCount'])\n",
    "w_gold = W_Gold.sort_values(by='MedalCount', ascending=False).head()\n",
    "w_gold.plot(x='Sport', y='MedalCount', kind='bar', figsize=(20,7), title='Sports with most Women Goldmedalists', color='#669db3ff')"
   ]
  },
  {
   "cell_type": "code",
   "execution_count": null,
   "metadata": {
    "id": "Z-DxidkS4_qM"
   },
   "outputs": [],
   "source": []
  }
 ],
 "metadata": {
  "colab": {
   "collapsed_sections": [],
   "name": "summer_olympic.ipynb",
   "provenance": []
  },
  "kernelspec": {
   "display_name": "Python 3 (ipykernel)",
   "language": "python",
   "name": "python3"
  },
  "language_info": {
   "codemirror_mode": {
    "name": "ipython",
    "version": 3
   },
   "file_extension": ".py",
   "mimetype": "text/x-python",
   "name": "python",
   "nbconvert_exporter": "python",
   "pygments_lexer": "ipython3",
   "version": "3.9.5"
  }
 },
 "nbformat": 4,
 "nbformat_minor": 1
}
